{
 "cells": [
  {
   "cell_type": "code",
   "execution_count": 15,
   "id": "29bcf5a2",
   "metadata": {},
   "outputs": [],
   "source": [
    "import pandas as pd"
   ]
  },
  {
   "cell_type": "code",
   "execution_count": 16,
   "id": "12a99740",
   "metadata": {},
   "outputs": [],
   "source": [
    "import os"
   ]
  },
  {
   "cell_type": "code",
   "execution_count": 17,
   "id": "8f1698de",
   "metadata": {},
   "outputs": [],
   "source": [
    "google_dir = os.listdir('google_news_with_title/')"
   ]
  },
  {
   "cell_type": "code",
   "execution_count": 18,
   "id": "c228fc8e",
   "metadata": {},
   "outputs": [],
   "source": [
    "google_dir = google_dir[:-1]"
   ]
  },
  {
   "cell_type": "code",
   "execution_count": 19,
   "id": "0111d9b6",
   "metadata": {},
   "outputs": [],
   "source": [
    "google_news = []\n",
    "google_titles = []\n",
    "for i in range(70):\n",
    "    with open(f'google_news_with_title/{i}.txt', 'r+', encoding='utf-8') as _f:\n",
    "        google_news.append(_f.read())\n",
    "    with open(f'google_news_with_title/title/{i}.txt', 'r+', encoding='utf-8') as _f:\n",
    "        google_titles.append(_f.read())"
   ]
  },
  {
   "cell_type": "code",
   "execution_count": 20,
   "id": "89facd64",
   "metadata": {},
   "outputs": [],
   "source": [
    "import pandas as pd"
   ]
  },
  {
   "cell_type": "code",
   "execution_count": 21,
   "id": "05069841",
   "metadata": {},
   "outputs": [],
   "source": [
    "google_df = pd.DataFrame([google_news, google_titles]).T\n",
    "google_df.columns = ['News', 'Titles']"
   ]
  },
  {
   "cell_type": "code",
   "execution_count": 22,
   "id": "bc9c9c1b",
   "metadata": {},
   "outputs": [],
   "source": [
    "google_df.to_csv('csvs/google_news.csv', sep='\\t', index=False)"
   ]
  },
  {
   "cell_type": "code",
   "execution_count": 23,
   "id": "6f55b00b",
   "metadata": {},
   "outputs": [],
   "source": [
    "data = pd.read_csv('results-20211002204809.csv')"
   ]
  },
  {
   "cell_type": "code",
   "execution_count": 24,
   "id": "ca153401",
   "metadata": {},
   "outputs": [],
   "source": [
    "data.drop(['URL', 'MobileURL', 'Date'], axis=1, inplace=True)"
   ]
  },
  {
   "cell_type": "code",
   "execution_count": 25,
   "id": "2e478402",
   "metadata": {},
   "outputs": [],
   "source": [
    "GDELT_news = []\n",
    "for i in range(75):\n",
    "    with open(f'GDELT_news/{i}.txt', 'r+', encoding='utf-8') as _f:\n",
    "        GDELT_news.append(_f.read())"
   ]
  },
  {
   "cell_type": "code",
   "execution_count": 26,
   "id": "2a25fc40",
   "metadata": {},
   "outputs": [
    {
     "data": {
      "text/plain": [
       "75"
      ]
     },
     "execution_count": 26,
     "metadata": {},
     "output_type": "execute_result"
    }
   ],
   "source": [
    "len(GDELT_news)"
   ]
  },
  {
   "cell_type": "code",
   "execution_count": 27,
   "id": "9aa06b5a",
   "metadata": {},
   "outputs": [],
   "source": [
    "data['News'] = GDELT_news"
   ]
  },
  {
   "cell_type": "code",
   "execution_count": 28,
   "id": "446230a9",
   "metadata": {},
   "outputs": [],
   "source": [
    "data.to_csv('csvs/gdelt_news.csv', sep='\\t', index=False)"
   ]
  },
  {
   "cell_type": "code",
   "execution_count": null,
   "id": "d0ccdbed",
   "metadata": {},
   "outputs": [],
   "source": []
  }
 ],
 "metadata": {
  "kernelspec": {
   "display_name": "Python 3 (ipykernel)",
   "language": "python",
   "name": "python3"
  },
  "language_info": {
   "codemirror_mode": {
    "name": "ipython",
    "version": 3
   },
   "file_extension": ".py",
   "mimetype": "text/x-python",
   "name": "python",
   "nbconvert_exporter": "python",
   "pygments_lexer": "ipython3",
   "version": "3.8.1"
  }
 },
 "nbformat": 4,
 "nbformat_minor": 5
}
