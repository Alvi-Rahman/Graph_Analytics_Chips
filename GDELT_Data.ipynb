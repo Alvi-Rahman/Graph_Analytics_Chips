{
 "cells": [
  {
   "cell_type": "code",
   "execution_count": 1,
   "id": "5200c30f",
   "metadata": {},
   "outputs": [],
   "source": [
    "from selenium import webdriver\n",
    "import re\n",
    "from selenium.webdriver.common.action_chains import ActionChains\n",
    "import time\n",
    "import os"
   ]
  },
  {
   "cell_type": "code",
   "execution_count": 5,
   "id": "2586d6bb",
   "metadata": {},
   "outputs": [],
   "source": [
    "driver = webdriver.Chrome('chromedriver.exe')\n",
    "\n",
    "driver.get(\"https://api.gdeltproject.org/api/v2/summary/summary?d=web&t=summary&k=chips+supply&ts=full&svt=zoom&stc=yes&sta=list&c=1\")\n",
    "\n",
    "links = []\n",
    "elems = driver.find_elements_by_xpath(\"//a[@href]\")\n",
    "for elem in elems:\n",
    "    temp_link = elem.get_attribute(\"href\")\n",
    "    links.append(temp_link)\n",
    "driver.quit()"
   ]
  },
  {
   "cell_type": "code",
   "execution_count": 2,
   "id": "8a40b63d",
   "metadata": {},
   "outputs": [],
   "source": [
    "import pandas as pd"
   ]
  },
  {
   "cell_type": "code",
   "execution_count": 4,
   "id": "95e8d623",
   "metadata": {},
   "outputs": [],
   "source": [
    "data = pd.read_csv('results-20211002204809.csv')"
   ]
  },
  {
   "cell_type": "code",
   "execution_count": 5,
   "id": "a8d8cdba",
   "metadata": {},
   "outputs": [],
   "source": [
    "links = list(data.iloc[:,0])"
   ]
  },
  {
   "cell_type": "code",
   "execution_count": 13,
   "id": "ee3f6f78",
   "metadata": {},
   "outputs": [],
   "source": [
    "driver = webdriver.Chrome('chromedriver.exe')\n",
    "if not os.path.exists('GDELT_news'):\n",
    "    os.mkdir('GDELT_news')\n",
    "    \n",
    "for i, link in enumerate(links):\n",
    "    try:\n",
    "        driver.get(link)\n",
    "        time.sleep(0.2)\n",
    "        text = driver.find_element_by_xpath(\"/html/body\").text\n",
    "        with open(f'GDELT_news/{i}.txt', 'w+', encoding=\"utf-8\") as _file:\n",
    "            _file.write(text)\n",
    "    except:\n",
    "        pass\n",
    "\n",
    "driver.quit()"
   ]
  },
  {
   "cell_type": "code",
   "execution_count": null,
   "id": "79433ad3",
   "metadata": {},
   "outputs": [],
   "source": []
  },
  {
   "cell_type": "code",
   "execution_count": null,
   "id": "234d9308",
   "metadata": {},
   "outputs": [],
   "source": []
  }
 ],
 "metadata": {
  "kernelspec": {
   "display_name": "Python 3 (ipykernel)",
   "language": "python",
   "name": "python3"
  },
  "language_info": {
   "codemirror_mode": {
    "name": "ipython",
    "version": 3
   },
   "file_extension": ".py",
   "mimetype": "text/x-python",
   "name": "python",
   "nbconvert_exporter": "python",
   "pygments_lexer": "ipython3",
   "version": "3.8.1"
  }
 },
 "nbformat": 4,
 "nbformat_minor": 5
}
