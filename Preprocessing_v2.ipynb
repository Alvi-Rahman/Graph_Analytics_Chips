{
 "cells": [
  {
   "cell_type": "code",
   "execution_count": 1,
   "id": "f923662b",
   "metadata": {},
   "outputs": [],
   "source": [
    "import pandas as pd"
   ]
  },
  {
   "cell_type": "code",
   "execution_count": 2,
   "id": "0d52df14",
   "metadata": {},
   "outputs": [],
   "source": [
    "google_news = pd.read_csv('csvs/google_news.csv', sep='\\t')\n",
    "gdelt_news = pd.read_csv('csvs/gdelt_news.csv', sep='\\t')"
   ]
  },
  {
   "cell_type": "code",
   "execution_count": 5,
   "id": "c99bef07",
   "metadata": {},
   "outputs": [],
   "source": [
    "google_news_lst = list(google_news['News'])\n",
    "\n",
    "final_google_news = []\n",
    "for news in google_news_lst:\n",
    "    temp_news = news.split('\\n')\n",
    "    temp_news = [i for i in temp_news if len(i.split()) > 3]\n",
    "    temp_news = temp_news[:-1]\n",
    "    final_google_news.append(' '.join(temp_news))"
   ]
  },
  {
   "cell_type": "code",
   "execution_count": 6,
   "id": "120e8b8f",
   "metadata": {},
   "outputs": [],
   "source": [
    "google_news['News'] = final_google_news"
   ]
  },
  {
   "cell_type": "code",
   "execution_count": 9,
   "id": "3cf4e319",
   "metadata": {},
   "outputs": [],
   "source": [
    "gdelt_news_lst = list(gdelt_news.iloc[:,1])\n",
    "\n",
    "final_gdelt_news = []\n",
    "for news in gdelt_news_lst:\n",
    "    temp_news = news.split('\\n')\n",
    "    temp_news = [i for i in temp_news if len(i.split()) > 3]\n",
    "    temp_news = temp_news[:-1]\n",
    "    final_gdelt_news.append(' '.join(temp_news))"
   ]
  },
  {
   "cell_type": "code",
   "execution_count": 10,
   "id": "b6f2b9d6",
   "metadata": {},
   "outputs": [],
   "source": [
    "gdelt_news['News'] = final_gdelt_news"
   ]
  },
  {
   "cell_type": "code",
   "execution_count": 14,
   "id": "27dbbb24",
   "metadata": {},
   "outputs": [],
   "source": [
    "google_news.to_csv('csvs/google_news_updated.csv', sep='\\t', index=False)\n",
    "gdelt_news.to_csv('csvs/gdelt_news_updated.csv', sep='\\t', index=False)"
   ]
  },
  {
   "cell_type": "code",
   "execution_count": null,
   "id": "225810d9",
   "metadata": {},
   "outputs": [],
   "source": []
  }
 ],
 "metadata": {
  "kernelspec": {
   "display_name": "Python 3 (ipykernel)",
   "language": "python",
   "name": "python3"
  },
  "language_info": {
   "codemirror_mode": {
    "name": "ipython",
    "version": 3
   },
   "file_extension": ".py",
   "mimetype": "text/x-python",
   "name": "python",
   "nbconvert_exporter": "python",
   "pygments_lexer": "ipython3",
   "version": "3.8.1"
  }
 },
 "nbformat": 4,
 "nbformat_minor": 5
}
