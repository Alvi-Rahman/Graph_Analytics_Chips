{
 "cells": [
  {
   "cell_type": "code",
   "execution_count": 8,
   "id": "29bcf5a2",
   "metadata": {},
   "outputs": [],
   "source": [
    "import pandas as pd"
   ]
  },
  {
   "cell_type": "code",
   "execution_count": 9,
   "id": "12a99740",
   "metadata": {},
   "outputs": [],
   "source": [
    "import os"
   ]
  },
  {
   "cell_type": "code",
   "execution_count": 10,
   "id": "8f1698de",
   "metadata": {},
   "outputs": [],
   "source": [
    "google_dir = os.listdir('google_news_with_title/')"
   ]
  },
  {
   "cell_type": "code",
   "execution_count": 11,
   "id": "0111d9b6",
   "metadata": {},
   "outputs": [],
   "source": [
    "google_news = []\n",
    "google_titles = []\n",
    "for i in os.listdir('google_news_with_title/'):\n",
    "    with open(f'google_news_with_title/{i}', 'r+', encoding='utf-8') as _f:\n",
    "        google_news.append(_f.read())\n",
    "#     with open(f'google_news_with_title/title/{i}.txt', 'r+', encoding='utf-8') as _f:\n",
    "#         google_titles.append(_f.read())"
   ]
  },
  {
   "cell_type": "code",
   "execution_count": 12,
   "id": "89facd64",
   "metadata": {},
   "outputs": [],
   "source": [
    "import pandas as pd"
   ]
  },
  {
   "cell_type": "code",
   "execution_count": 13,
   "id": "05069841",
   "metadata": {},
   "outputs": [],
   "source": [
    "google_df = pd.DataFrame([google_news]).T\n",
    "google_df.columns = ['News']"
   ]
  },
  {
   "cell_type": "code",
   "execution_count": 14,
   "id": "46779078",
   "metadata": {},
   "outputs": [
    {
     "data": {
      "text/html": [
       "<div>\n",
       "<style scoped>\n",
       "    .dataframe tbody tr th:only-of-type {\n",
       "        vertical-align: middle;\n",
       "    }\n",
       "\n",
       "    .dataframe tbody tr th {\n",
       "        vertical-align: top;\n",
       "    }\n",
       "\n",
       "    .dataframe thead th {\n",
       "        text-align: right;\n",
       "    }\n",
       "</style>\n",
       "<table border=\"1\" class=\"dataframe\">\n",
       "  <thead>\n",
       "    <tr style=\"text-align: right;\">\n",
       "      <th></th>\n",
       "      <th>News</th>\n",
       "    </tr>\n",
       "  </thead>\n",
       "  <tbody>\n",
       "    <tr>\n",
       "      <th>0</th>\n",
       "      <td>World\\nBusiness\\nLegal\\nMarketsBreakingviews\\n...</td>\n",
       "    </tr>\n",
       "    <tr>\n",
       "      <th>1</th>\n",
       "      <td>Skip to content\\nLive Now: President Biden Hos...</td>\n",
       "    </tr>\n",
       "    <tr>\n",
       "      <th>2</th>\n",
       "      <td>Skip to main content\\nNewsletter\\nSign In\\nSea...</td>\n",
       "    </tr>\n",
       "    <tr>\n",
       "      <th>3</th>\n",
       "      <td>MARKETS\\nBUSINESS\\nINVESTING\\nTECH\\nPOLITICS\\n...</td>\n",
       "    </tr>\n",
       "    <tr>\n",
       "      <th>4</th>\n",
       "      <td>This website uses cookies, including third par...</td>\n",
       "    </tr>\n",
       "    <tr>\n",
       "      <th>...</th>\n",
       "      <td>...</td>\n",
       "    </tr>\n",
       "    <tr>\n",
       "      <th>80</th>\n",
       "      <td>Search\\nWORKING FROM HOME CLOUD INNOVATION CXO...</td>\n",
       "    </tr>\n",
       "    <tr>\n",
       "      <th>81</th>\n",
       "      <td>Markets\\nTech\\nMedia\\nSuccess\\nPerspectives\\nV...</td>\n",
       "    </tr>\n",
       "    <tr>\n",
       "      <th>82</th>\n",
       "      <td>World\\nBusiness\\nLegal\\nMarketsBreakingviews\\n...</td>\n",
       "    </tr>\n",
       "    <tr>\n",
       "      <th>83</th>\n",
       "      <td>Home\\nNews\\nU.S.\\nSport\\nTV&amp;Showbiz\\nAustral...</td>\n",
       "    </tr>\n",
       "    <tr>\n",
       "      <th>84</th>\n",
       "      <td>Register\\nSign in\\nNews Noticias Fund Managers...</td>\n",
       "    </tr>\n",
       "  </tbody>\n",
       "</table>\n",
       "<p>85 rows × 1 columns</p>\n",
       "</div>"
      ],
      "text/plain": [
       "                                                 News\n",
       "0   World\\nBusiness\\nLegal\\nMarketsBreakingviews\\n...\n",
       "1   Skip to content\\nLive Now: President Biden Hos...\n",
       "2   Skip to main content\\nNewsletter\\nSign In\\nSea...\n",
       "3   MARKETS\\nBUSINESS\\nINVESTING\\nTECH\\nPOLITICS\\n...\n",
       "4   This website uses cookies, including third par...\n",
       "..                                                ...\n",
       "80  Search\\nWORKING FROM HOME CLOUD INNOVATION CXO...\n",
       "81  Markets\\nTech\\nMedia\\nSuccess\\nPerspectives\\nV...\n",
       "82  World\\nBusiness\\nLegal\\nMarketsBreakingviews\\n...\n",
       "83    Home\\nNews\\nU.S.\\nSport\\nTV&Showbiz\\nAustral...\n",
       "84  Register\\nSign in\\nNews Noticias Fund Managers...\n",
       "\n",
       "[85 rows x 1 columns]"
      ]
     },
     "execution_count": 14,
     "metadata": {},
     "output_type": "execute_result"
    }
   ],
   "source": [
    "google_df"
   ]
  },
  {
   "cell_type": "code",
   "execution_count": null,
   "id": "f83a7636",
   "metadata": {},
   "outputs": [],
   "source": []
  },
  {
   "cell_type": "code",
   "execution_count": 15,
   "id": "bc9c9c1b",
   "metadata": {},
   "outputs": [],
   "source": [
    "google_df.to_csv('csvs/google_news.csv', sep='\\t', index=False)"
   ]
  },
  {
   "cell_type": "code",
   "execution_count": 16,
   "id": "89df8d6f",
   "metadata": {},
   "outputs": [],
   "source": [
    "# ================ GDELT ======================"
   ]
  },
  {
   "cell_type": "code",
   "execution_count": 17,
   "id": "2e478402",
   "metadata": {},
   "outputs": [],
   "source": [
    "GDELT_news = []\n",
    "for i in os.listdir('GDELT_news/'):\n",
    "    with open(f'GDELT_news/{i}', 'r+', encoding='utf-8') as _f:\n",
    "        GDELT_news.append(_f.read())"
   ]
  },
  {
   "cell_type": "code",
   "execution_count": 18,
   "id": "9aa06b5a",
   "metadata": {},
   "outputs": [],
   "source": [
    "GDELT_news_df = pd.DataFrame([GDELT_news]).T\n",
    "GDELT_news_df.columns = ['News']"
   ]
  },
  {
   "cell_type": "code",
   "execution_count": 19,
   "id": "446230a9",
   "metadata": {},
   "outputs": [],
   "source": [
    "GDELT_news_df.to_csv('csvs/gdelt_news.csv', sep='\\t', index=False)"
   ]
  },
  {
   "cell_type": "code",
   "execution_count": null,
   "id": "d0ccdbed",
   "metadata": {},
   "outputs": [],
   "source": []
  }
 ],
 "metadata": {
  "kernelspec": {
   "display_name": "Python 3 (ipykernel)",
   "language": "python",
   "name": "python3"
  },
  "language_info": {
   "codemirror_mode": {
    "name": "ipython",
    "version": 3
   },
   "file_extension": ".py",
   "mimetype": "text/x-python",
   "name": "python",
   "nbconvert_exporter": "python",
   "pygments_lexer": "ipython3",
   "version": "3.8.1"
  }
 },
 "nbformat": 4,
 "nbformat_minor": 5
}
