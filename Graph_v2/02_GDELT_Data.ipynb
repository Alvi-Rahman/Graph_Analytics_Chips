{
 "cells": [
  {
   "cell_type": "code",
   "execution_count": 6,
   "id": "5200c30f",
   "metadata": {},
   "outputs": [],
   "source": [
    "from selenium import webdriver\n",
    "import re\n",
    "from selenium.webdriver.common.action_chains import ActionChains\n",
    "import time\n",
    "import os\n",
    "import pandas as pd"
   ]
  },
  {
   "cell_type": "code",
   "execution_count": 7,
   "id": "95e8d623",
   "metadata": {},
   "outputs": [],
   "source": [
    "data = pd.read_csv('results-20211006181631.csv')"
   ]
  },
  {
   "cell_type": "code",
   "execution_count": 8,
   "id": "a8d8cdba",
   "metadata": {},
   "outputs": [],
   "source": [
    "links = list(data['URL'])"
   ]
  },
  {
   "cell_type": "code",
   "execution_count": 9,
   "id": "ee3f6f78",
   "metadata": {},
   "outputs": [],
   "source": [
    "driver = webdriver.Chrome('chromedriver.exe')\n",
    "if not os.path.exists('GDELT_news'):\n",
    "    os.mkdir('GDELT_news')\n",
    "    \n",
    "for i, link in enumerate(links):\n",
    "    try:\n",
    "        driver.get(link)\n",
    "        time.sleep(0.2)\n",
    "        text = driver.find_element_by_xpath(\"/html/body\").text\n",
    "        with open(f'GDELT_news/{i}.txt', 'w+', encoding=\"utf-8\") as _file:\n",
    "            _file.write(text)\n",
    "    except:\n",
    "        pass\n",
    "\n",
    "driver.quit()"
   ]
  },
  {
   "cell_type": "code",
   "execution_count": null,
   "id": "234d9308",
   "metadata": {},
   "outputs": [],
   "source": []
  }
 ],
 "metadata": {
  "kernelspec": {
   "display_name": "Python 3",
   "language": "python",
   "name": "python3"
  },
  "language_info": {
   "codemirror_mode": {
    "name": "ipython",
    "version": 3
   },
   "file_extension": ".py",
   "mimetype": "text/x-python",
   "name": "python",
   "nbconvert_exporter": "python",
   "pygments_lexer": "ipython3",
   "version": "3.8.1"
  }
 },
 "nbformat": 4,
 "nbformat_minor": 5
}
