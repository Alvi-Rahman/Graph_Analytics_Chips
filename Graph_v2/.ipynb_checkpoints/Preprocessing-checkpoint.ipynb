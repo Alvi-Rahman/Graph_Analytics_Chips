{
 "cells": [
  {
   "cell_type": "code",
   "execution_count": 1,
   "id": "29bcf5a2",
   "metadata": {},
   "outputs": [],
   "source": [
    "import pandas as pd"
   ]
  },
  {
   "cell_type": "code",
   "execution_count": 2,
   "id": "12a99740",
   "metadata": {},
   "outputs": [],
   "source": [
    "import os"
   ]
  },
  {
   "cell_type": "code",
   "execution_count": 3,
   "id": "8f1698de",
   "metadata": {},
   "outputs": [],
   "source": [
    "google_dir = os.listdir('google_news_with_title/')"
   ]
  },
  {
   "cell_type": "code",
   "execution_count": 4,
   "id": "0111d9b6",
   "metadata": {},
   "outputs": [],
   "source": [
    "google_news = []\n",
    "google_titles = []\n",
    "for i in os.listdir('google_news_with_title/'):\n",
    "    with open(f'google_news_with_title/{i}', 'r+', encoding='utf-8') as _f:\n",
    "        google_news.append(_f.read())\n",
    "#     with open(f'google_news_with_title/title/{i}.txt', 'r+', encoding='utf-8') as _f:\n",
    "#         google_titles.append(_f.read())"
   ]
  },
  {
   "cell_type": "code",
   "execution_count": 5,
   "id": "89facd64",
   "metadata": {},
   "outputs": [],
   "source": [
    "import pandas as pd"
   ]
  },
  {
   "cell_type": "code",
   "execution_count": 6,
   "id": "05069841",
   "metadata": {},
   "outputs": [],
   "source": [
    "google_df = pd.DataFrame([google_news]).T\n",
    "google_df.columns = ['News']"
   ]
  },
  {
   "cell_type": "code",
   "execution_count": null,
   "id": "46779078",
   "metadata": {},
   "outputs": [],
   "source": []
  },
  {
   "cell_type": "code",
   "execution_count": 7,
   "id": "bc9c9c1b",
   "metadata": {},
   "outputs": [],
   "source": [
    "google_df.to_csv('csvs/google_news.csv', sep='\\t', index=False)"
   ]
  },
  {
   "cell_type": "code",
   "execution_count": 8,
   "id": "89df8d6f",
   "metadata": {},
   "outputs": [],
   "source": [
    "# ================ GDELT ======================"
   ]
  },
  {
   "cell_type": "code",
   "execution_count": 9,
   "id": "2e478402",
   "metadata": {},
   "outputs": [],
   "source": [
    "GDELT_news = []\n",
    "for i in os.listdir('GDELT_news/'):\n",
    "    with open(f'GDELT_news/{i}', 'r+', encoding='utf-8') as _f:\n",
    "        GDELT_news.append(_f.read())"
   ]
  },
  {
   "cell_type": "code",
   "execution_count": 10,
   "id": "9aa06b5a",
   "metadata": {},
   "outputs": [],
   "source": [
    "GDELT_news_df = pd.DataFrame([google_news]).T\n",
    "GDELT_news_df.columns = ['News']"
   ]
  },
  {
   "cell_type": "code",
   "execution_count": 11,
   "id": "446230a9",
   "metadata": {},
   "outputs": [],
   "source": [
    "GDELT_news_df.to_csv('csvs/gdelt_news.csv', sep='\\t', index=False)"
   ]
  },
  {
   "cell_type": "code",
   "execution_count": null,
   "id": "d0ccdbed",
   "metadata": {},
   "outputs": [],
   "source": []
  }
 ],
 "metadata": {
  "kernelspec": {
   "display_name": "Python 3 (ipykernel)",
   "language": "python",
   "name": "python3"
  },
  "language_info": {
   "codemirror_mode": {
    "name": "ipython",
    "version": 3
   },
   "file_extension": ".py",
   "mimetype": "text/x-python",
   "name": "python",
   "nbconvert_exporter": "python",
   "pygments_lexer": "ipython3",
   "version": "3.8.1"
  }
 },
 "nbformat": 4,
 "nbformat_minor": 5
}
