{
 "cells": [
  {
   "cell_type": "code",
   "execution_count": 1,
   "id": "dec37762",
   "metadata": {},
   "outputs": [],
   "source": [
    "import pandas as pd\n",
    "gdelt_news = pd.read_csv('csvs/gdelt_news_updated.csv', sep='\\t')"
   ]
  },
  {
   "cell_type": "code",
   "execution_count": 2,
   "id": "b85b1ddb",
   "metadata": {},
   "outputs": [],
   "source": [
    "from sklearn.feature_extraction.text import TfidfVectorizer"
   ]
  },
  {
   "cell_type": "code",
   "execution_count": 3,
   "id": "02f94fff",
   "metadata": {},
   "outputs": [],
   "source": [
    "tfidf = TfidfVectorizer(stop_words='english')"
   ]
  },
  {
   "cell_type": "code",
   "execution_count": 5,
   "id": "835b97d9",
   "metadata": {},
   "outputs": [],
   "source": [
    "dtm = tfidf.fit_transform(gdelt_news['News'])"
   ]
  },
  {
   "cell_type": "code",
   "execution_count": 6,
   "id": "929bc1e4",
   "metadata": {},
   "outputs": [],
   "source": [
    "from sklearn.decomposition import LatentDirichletAllocation"
   ]
  },
  {
   "cell_type": "code",
   "execution_count": 7,
   "id": "620bf762",
   "metadata": {},
   "outputs": [],
   "source": [
    "LDA = LatentDirichletAllocation(n_components=10,random_state=101)"
   ]
  },
  {
   "cell_type": "code",
   "execution_count": 8,
   "id": "8ad58936",
   "metadata": {},
   "outputs": [
    {
     "data": {
      "text/plain": [
       "LatentDirichletAllocation(random_state=101)"
      ]
     },
     "execution_count": 8,
     "metadata": {},
     "output_type": "execute_result"
    }
   ],
   "source": [
    "LDA.fit(dtm)"
   ]
  },
  {
   "cell_type": "code",
   "execution_count": 9,
   "id": "d99ed309",
   "metadata": {},
   "outputs": [
    {
     "name": "stdout",
     "output_type": "stream",
     "text": [
      "Fitting 5 folds for each of 10 candidates, totalling 50 fits\n",
      "Best Model's Params:  {'learning_decay': 0.5, 'n_components': 5}\n",
      "Best Log Likelihood Score:  -2896.018811810439\n"
     ]
    }
   ],
   "source": [
    "from sklearn.decomposition import LatentDirichletAllocation\n",
    "from sklearn.model_selection import GridSearchCV\n",
    "\n",
    "search_params = {\n",
    "  'n_components': [5, 10, 15, 20, 25],\n",
    "  'learning_decay': [.5, .7]\n",
    "}\n",
    "\n",
    "model = LatentDirichletAllocation()\n",
    "\n",
    "# Try all of the options\n",
    "gridsearch = GridSearchCV(model, param_grid=search_params, n_jobs=-1, verbose=1)\n",
    "gridsearch.fit(dtm)\n",
    "\n",
    "# What did we find?\n",
    "print(\"Best Model's Params: \", gridsearch.best_params_)\n",
    "print(\"Best Log Likelihood Score: \", gridsearch.best_score_)"
   ]
  },
  {
   "cell_type": "code",
   "execution_count": 10,
   "id": "c7bfce61",
   "metadata": {},
   "outputs": [
    {
     "name": "stdout",
     "output_type": "stream",
     "text": [
      "THE TOP 15 WORDS FOR TOPIC #0\n",
      "['акция', 'данни', 'тайван', 'marvel', 'тя', 'повиши', 'тримесечни', 'увеличения', 'отчете', 'клиентите', 'очакваното', 'високи', 'приходи', 'цените', 'marvell']\n",
      "\n",
      "\n",
      "THE TOP 15 WORDS FOR TOPIC #1\n",
      "['čipů', 'gladiator', 'wrangler', 'das', 'sind', 'auch', 'innen', 'za', 'podle', 'der', 'und', 'se', 'na', 'die', 'jeep']\n",
      "\n",
      "\n",
      "THE TOP 15 WORDS FOR TOPIC #2\n",
      "['sources', 'china', 'pentru', 'cipuri', 'counterfeit', 'penetrating', 'din', 'networking', 'substandard', 'jenesis', 'taiwan', 'wi', 'în', 'fi', 'şi']\n",
      "\n",
      "\n",
      "THE TOP 15 WORDS FOR TOPIC #3\n",
      "['moody', 'companies', 'cnbc', 'like', 'demand', 'manufacturing', 'uy', 'chip', 'said', 'production', 'new', 'semiconductor', 'shortage', 'supply', 'chips']\n",
      "\n",
      "\n",
      "THE TOP 15 WORDS FOR TOPIC #4\n",
      "['teknologi', 'kekurangan', 'pabrik', 'mereka', 'hyundai', 'от', 'di', 'bisa', 'да', 'pada', 'perusahaan', 'за', 'yang', 'akan', 'на']\n",
      "\n",
      "\n",
      "THE TOP 15 WORDS FOR TOPIC #5\n"
     ]
    },
    {
     "name": "stderr",
     "output_type": "stream",
     "text": [
      "E:\\Graph_Analytics\\graphEnv\\lib\\site-packages\\sklearn\\utils\\deprecation.py:87: FutureWarning: Function get_feature_names is deprecated; get_feature_names is deprecated in 1.0 and will be removed in 1.2. Please use get_feature_names_out instead.\n",
      "  warnings.warn(msg, category=FutureWarning)\n"
     ]
    },
    {
     "name": "stdout",
     "output_type": "stream",
     "text": [
      "['valley', 'footsteps', 'hit', 'sep', 'power', 'terms', 'able', 'switch', 'nintendo', 'following', 'house', 'apple', 'ps5', 'google', 'console']\n",
      "\n",
      "\n",
      "THE TOP 15 WORDS FOR TOPIC #6\n",
      "['shortage', 'chip', 'ou', 'series', 'ford', 'données', 'trucks', 'semiconductor', 'solution', 'supply', 'chips', 'et', 'fewer', 'cooling', 'jetcool']\n",
      "\n",
      "\n",
      "THE TOP 15 WORDS FOR TOPIC #7\n",
      "['popyt', 'proc', 'samochody', 'azji', 'producenci', 'money', 'roku', 'przez', 'aut', 'się', 'chipów', 'że', 'samochodów', 'produkcji', 'na']\n",
      "\n",
      "\n",
      "THE TOP 15 WORDS FOR TOPIC #8\n",
      "['dalam', 'pasokan', 'dengan', 'kelangkaan', 'semikonduktor', 'wib', 'indonesia', '2021', 'industri', 'untuk', 'yang', 'dan', 'ini', 'chip', 'di']\n",
      "\n",
      "\n",
      "THE TOP 15 WORDS FOR TOPIC #9\n",
      "['чипов', 'что', 'الإنتاج', 'ford', 'oneplus', 'تويوتا', 'أن', 'بسبب', 'إلى', 'نقص', 'على', 'الرقائق', 'السيارات', 'من', 'في']\n",
      "\n",
      "\n"
     ]
    }
   ],
   "source": [
    "for index,topic in enumerate(LDA.components_):\n",
    "    print(f'THE TOP 15 WORDS FOR TOPIC #{index}')\n",
    "    print([tfidf.get_feature_names()[i] for i in topic.argsort()[-15:]])\n",
    "    print('\\n')"
   ]
  },
  {
   "cell_type": "code",
   "execution_count": null,
   "id": "b2078204",
   "metadata": {},
   "outputs": [],
   "source": []
  }
 ],
 "metadata": {
  "kernelspec": {
   "display_name": "Python 3",
   "language": "python",
   "name": "python3"
  },
  "language_info": {
   "codemirror_mode": {
    "name": "ipython",
    "version": 3
   },
   "file_extension": ".py",
   "mimetype": "text/x-python",
   "name": "python",
   "nbconvert_exporter": "python",
   "pygments_lexer": "ipython3",
   "version": "3.8.1"
  }
 },
 "nbformat": 4,
 "nbformat_minor": 5
}
