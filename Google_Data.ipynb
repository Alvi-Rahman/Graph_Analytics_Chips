{
 "cells": [
  {
   "cell_type": "code",
   "execution_count": 1,
   "id": "1b8f6489",
   "metadata": {},
   "outputs": [],
   "source": [
    "from selenium import webdriver\n",
    "import re\n",
    "from selenium.webdriver.common.action_chains import ActionChains\n",
    "import time\n",
    "import os"
   ]
  },
  {
   "cell_type": "code",
   "execution_count": 2,
   "id": "c59a3ddc",
   "metadata": {},
   "outputs": [],
   "source": [
    "social = [\n",
    "            'facebook.com',\n",
    "            'instagram.com',\n",
    "            'twitter.com',\n",
    "            'linkedin.com',\n",
    "            'pinterest.com',\n",
    "            'youtube.com',\n",
    "            'flipboard.com',\n",
    "            'google.com',\n",
    "            'reddit.com',\n",
    "            '@'\n",
    "        ]"
   ]
  },
  {
   "cell_type": "code",
   "execution_count": 4,
   "id": "1bb73335",
   "metadata": {},
   "outputs": [],
   "source": [
    "driver = webdriver.Chrome('chromedriver.exe')\n",
    "\n",
    "driver.get(\"https://news.google.com/topics/CAAqJAgKIh5DQkFTRUFvS0wyMHZNRGh0YUROclpCSUNaVzRvQUFQAQ?hl=en-US&gl=US&ceid=US%3Aen\")\n",
    "\n",
    "links = []\n",
    "elems = driver.find_elements_by_xpath(\"//a[@href]\")\n",
    "for elem in elems:\n",
    "    temp_link = elem.get_attribute(\"href\")\n",
    "    if temp_link.startswith(\"https://news.google.com/articles/\"):\n",
    "        links.append(temp_link)\n",
    "\n",
    "if not os.path.exists('google_news_with_title'):\n",
    "    os.makedirs('google_news_with_title/title')\n",
    "\n",
    "\n",
    "    \n",
    "links = list(set(links))\n",
    "for i, link in enumerate(links):\n",
    "    try:\n",
    "        driver.get(link)\n",
    "        time.sleep(0.2)\n",
    "        text = driver.find_element_by_xpath(\"/html/body\").text\n",
    "        with open(f'google_news_with_title/{i}.txt', 'w+', encoding=\"utf-8\") as _file:\n",
    "            _file.write(text)\n",
    "        \n",
    "        with open(f'google_news_with_title/title/{i}.txt', 'w+', encoding=\"utf-8\") as _file:\n",
    "            _file.write(str(driver.title.split('|')[0]))\n",
    "    except:\n",
    "        pass\n",
    "driver.quit()\n"
   ]
  },
  {
   "cell_type": "code",
   "execution_count": null,
   "id": "fa43352e",
   "metadata": {},
   "outputs": [],
   "source": []
  },
  {
   "cell_type": "code",
   "execution_count": null,
   "id": "81357bc4",
   "metadata": {},
   "outputs": [],
   "source": []
  }
 ],
 "metadata": {
  "kernelspec": {
   "display_name": "Python 3 (ipykernel)",
   "language": "python",
   "name": "python3"
  },
  "language_info": {
   "codemirror_mode": {
    "name": "ipython",
    "version": 3
   },
   "file_extension": ".py",
   "mimetype": "text/x-python",
   "name": "python",
   "nbconvert_exporter": "python",
   "pygments_lexer": "ipython3",
   "version": "3.8.1"
  }
 },
 "nbformat": 4,
 "nbformat_minor": 5
}
